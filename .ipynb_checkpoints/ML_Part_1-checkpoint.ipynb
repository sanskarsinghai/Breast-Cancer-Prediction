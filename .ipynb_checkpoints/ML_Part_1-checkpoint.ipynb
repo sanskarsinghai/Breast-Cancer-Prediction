{
 "cells": [
  {
   "cell_type": "markdown",
   "id": "4b6a6b0c",
   "metadata": {},
   "source": [
    "## <b>Build a model to predict how many days it takes for a car to be built</b>"
   ]
  },
  {
   "cell_type": "markdown",
   "id": "937072e8",
   "metadata": {},
   "source": [
    "## Problem Statement:\n",
    "Factories often output large numbers of products, with complex processes throughout the production line. Accurate factory forecasting is essential to outbound logistics – extra trucks are wasteful, and insufficient trucks inflate truck premiums.\n",
    "\n",
    "The goal of this challenge is to build a machine learning model that predicts the number of days to build a product, and hence derives the daily factory output.\n",
    "\n",
    "Build a model to predict how many days it takes for a car to be built (from assembly_start_date to final_completion_date).\n",
    "\n",
    "\n",
    "## Dataset: \n",
    "Company XYZ is an automotive company that manufactures cars. You are given a rich dataset with features for each car. One row of data is for one car."
   ]
  },
  {
   "cell_type": "markdown",
   "id": "41a55547",
   "metadata": {},
   "source": [
    "## Step 1: Import all the required libraries \n",
    "* __Pandas__ : In computer programming, pandas is a software library written for the Python programming language for data manipulation and analysis and storing in a proper way. In particular, it offers data structures and operations for manipulating numerical tables and time series\n",
    "* __Sklearn__ : Scikit-learn (formerly scikits.learn) is a free software machine learning library for the Python programming language. It features various classification, regression and clustering algorithms including support vector machines, random forests, gradient boosting, k-means and DBSCAN, and is designed to interoperate with the Python numerical and scientific libraries NumPy and SciPy. The library is built upon the SciPy (Scientific Python) that must be installed before you can use scikit-learn.\n",
    "* __Pickle__ : Python pickle module is used for serializing and de-serializing a Python object structure. Pickling is a way to convert a python object (list, dict, etc.) into a character stream. The idea is that this character stream contains all the information necessary to reconstruct the object in another python script.\n",
    "* __Seaborn__ : Seaborn is a Python data visualization library based on matplotlib. It provides a high-level interface for drawing attractive and informative statistical graphics."
   ]
  },
  {
   "cell_type": "code",
   "execution_count": 2,
   "id": "b52e87e6",
   "metadata": {
    "ExecuteTime": {
     "end_time": "2022-09-13T14:17:09.227656Z",
     "start_time": "2022-09-13T14:17:09.222167Z"
    }
   },
   "outputs": [],
   "source": [
    "#Loading libraries \n",
    "import pandas as pd\n",
    "import seaborn as sns\n",
    "from sklearn.model_selection import train_test_split\n",
    "from sklearn import preprocessing\n",
    "import sklearn.linear_model \n",
    "import sklearn\n",
    "import pickle\n",
    "import numpy as np\n",
    "import matplotlib.pyplot as plt\n",
    "from sklearn.preprocessing import OneHotEncoder\n",
    "import warnings\n",
    "\n",
    "warnings.filterwarnings('ignore')\n"
   ]
  },
  {
   "cell_type": "markdown",
   "id": "bb42b04d",
   "metadata": {},
   "source": [
    "## Step 2 : Read dataset and basic details of dataset\n"
   ]
  },
  {
   "cell_type": "markdown",
   "id": "1b942751",
   "metadata": {},
   "source": [
    "#### Goal:- In this step we are going to read the dataset, view the dataset and analysis the basic details like total number of rows and columns, what are the column data types and see to need to create new column or not."
   ]
  },
  {
   "cell_type": "markdown",
   "id": "12d27134",
   "metadata": {
    "ExecuteTime": {
     "end_time": "2022-09-12T20:03:58.029930Z",
     "start_time": "2022-09-12T20:03:58.024574Z"
    }
   },
   "source": [
    "In this stage we are going to read our problem dataset and have a look on it."
   ]
  },
  {
   "cell_type": "code",
   "execution_count": 6,
   "id": "d477d83d",
   "metadata": {
    "ExecuteTime": {
     "end_time": "2022-09-13T14:13:15.955753Z",
     "start_time": "2022-09-13T14:13:15.897086Z"
    }
   },
   "outputs": [
    {
     "name": "stdout",
     "output_type": "stream",
     "text": [
      "Data read done successfully...\n"
     ]
    }
   ],
   "source": [
    "#loading training data\n",
    "try:\n",
    "    df = pd.read_csv('Breast_cancer_data.csv')\n",
    "    print('Data read done successfully...')\n",
    "except (FileNotFoundError, IOError):\n",
    "    print(\"Wrong file or file path\")   "
   ]
  },
  {
   "cell_type": "code",
   "execution_count": 7,
   "id": "6655ab96",
   "metadata": {
    "ExecuteTime": {
     "end_time": "2022-09-13T14:13:16.145731Z",
     "start_time": "2022-09-13T14:13:16.134391Z"
    }
   },
   "outputs": [
    {
     "data": {
      "text/html": [
       "<div>\n",
       "<style scoped>\n",
       "    .dataframe tbody tr th:only-of-type {\n",
       "        vertical-align: middle;\n",
       "    }\n",
       "\n",
       "    .dataframe tbody tr th {\n",
       "        vertical-align: top;\n",
       "    }\n",
       "\n",
       "    .dataframe thead th {\n",
       "        text-align: right;\n",
       "    }\n",
       "</style>\n",
       "<table border=\"1\" class=\"dataframe\">\n",
       "  <thead>\n",
       "    <tr style=\"text-align: right;\">\n",
       "      <th></th>\n",
       "      <th>mean_radius</th>\n",
       "      <th>mean_texture</th>\n",
       "      <th>mean_perimeter</th>\n",
       "      <th>mean_area</th>\n",
       "      <th>mean_smoothness</th>\n",
       "      <th>diagnosis</th>\n",
       "    </tr>\n",
       "  </thead>\n",
       "  <tbody>\n",
       "    <tr>\n",
       "      <th>0</th>\n",
       "      <td>17.99</td>\n",
       "      <td>10.38</td>\n",
       "      <td>122.80</td>\n",
       "      <td>1001.0</td>\n",
       "      <td>0.11840</td>\n",
       "      <td>0</td>\n",
       "    </tr>\n",
       "    <tr>\n",
       "      <th>1</th>\n",
       "      <td>20.57</td>\n",
       "      <td>17.77</td>\n",
       "      <td>132.90</td>\n",
       "      <td>1326.0</td>\n",
       "      <td>0.08474</td>\n",
       "      <td>0</td>\n",
       "    </tr>\n",
       "    <tr>\n",
       "      <th>2</th>\n",
       "      <td>19.69</td>\n",
       "      <td>21.25</td>\n",
       "      <td>130.00</td>\n",
       "      <td>1203.0</td>\n",
       "      <td>0.10960</td>\n",
       "      <td>0</td>\n",
       "    </tr>\n",
       "    <tr>\n",
       "      <th>3</th>\n",
       "      <td>11.42</td>\n",
       "      <td>20.38</td>\n",
       "      <td>77.58</td>\n",
       "      <td>386.1</td>\n",
       "      <td>0.14250</td>\n",
       "      <td>0</td>\n",
       "    </tr>\n",
       "    <tr>\n",
       "      <th>4</th>\n",
       "      <td>20.29</td>\n",
       "      <td>14.34</td>\n",
       "      <td>135.10</td>\n",
       "      <td>1297.0</td>\n",
       "      <td>0.10030</td>\n",
       "      <td>0</td>\n",
       "    </tr>\n",
       "  </tbody>\n",
       "</table>\n",
       "</div>"
      ],
      "text/plain": [
       "   mean_radius  mean_texture  mean_perimeter  mean_area  mean_smoothness  \\\n",
       "0        17.99         10.38          122.80     1001.0          0.11840   \n",
       "1        20.57         17.77          132.90     1326.0          0.08474   \n",
       "2        19.69         21.25          130.00     1203.0          0.10960   \n",
       "3        11.42         20.38           77.58      386.1          0.14250   \n",
       "4        20.29         14.34          135.10     1297.0          0.10030   \n",
       "\n",
       "   diagnosis  \n",
       "0          0  \n",
       "1          0  \n",
       "2          0  \n",
       "3          0  \n",
       "4          0  "
      ]
     },
     "execution_count": 7,
     "metadata": {},
     "output_type": "execute_result"
    }
   ],
   "source": [
    "df.head()"
   ]
  },
  {
   "cell_type": "markdown",
   "id": "7284d7a6",
   "metadata": {},
   "source": [
    "After we read the data, we can look at the data using:\n"
   ]
  },
  {
   "cell_type": "code",
   "execution_count": 8,
   "id": "735fd10e",
   "metadata": {
    "ExecuteTime": {
     "end_time": "2022-09-13T14:13:16.423890Z",
     "start_time": "2022-09-13T14:13:16.418630Z"
    }
   },
   "outputs": [
    {
     "name": "stdout",
     "output_type": "stream",
     "text": [
      "The train data has 569 rows and 6 columns\n"
     ]
    }
   ],
   "source": [
    "# count the total number of rows and columns.\n",
    "print ('The train data has {0} rows and {1} columns'.format(df.shape[0],df.shape[1]))"
   ]
  },
  {
   "cell_type": "markdown",
   "id": "b29e9d9a",
   "metadata": {},
   "source": [
    "Now we got the target variable as days, now our problem is build as a supervised learning and our target variable is in continuos data values so we have to apply regression algorithms to build a model"
   ]
  },
  {
   "cell_type": "code",
   "execution_count": 9,
   "id": "1da52f79",
   "metadata": {
    "ExecuteTime": {
     "end_time": "2022-09-13T14:13:17.946411Z",
     "start_time": "2022-09-13T14:13:17.896003Z"
    }
   },
   "outputs": [
    {
     "name": "stdout",
     "output_type": "stream",
     "text": [
      "<class 'pandas.core.frame.DataFrame'>\n",
      "RangeIndex: 569 entries, 0 to 568\n",
      "Data columns (total 6 columns):\n",
      " #   Column           Non-Null Count  Dtype  \n",
      "---  ------           --------------  -----  \n",
      " 0   mean_radius      569 non-null    float64\n",
      " 1   mean_texture     569 non-null    float64\n",
      " 2   mean_perimeter   569 non-null    float64\n",
      " 3   mean_area        569 non-null    float64\n",
      " 4   mean_smoothness  569 non-null    float64\n",
      " 5   diagnosis        569 non-null    int64  \n",
      "dtypes: float64(5), int64(1)\n",
      "memory usage: 26.8 KB\n"
     ]
    }
   ],
   "source": [
    "df.info()"
   ]
  },
  {
   "cell_type": "markdown",
   "id": "09eae00b",
   "metadata": {},
   "source": [
    "with the info function will get to know that we have zero non null values to whole dataset and we have total 3 types of data types in dataset which is, numerical, object and datetime"
   ]
  },
  {
   "cell_type": "markdown",
   "id": "85a0a780",
   "metadata": {},
   "source": [
    "Now will count the separatly every data type column list"
   ]
  },
  {
   "cell_type": "code",
   "execution_count": 10,
   "id": "2cbb74c8",
   "metadata": {
    "ExecuteTime": {
     "end_time": "2022-09-13T14:13:18.731129Z",
     "start_time": "2022-09-13T14:13:18.727338Z"
    }
   },
   "outputs": [],
   "source": [
    "objects_cols = ['object']\n",
    "objects_lst = list(df.select_dtypes(include=objects_cols).columns)"
   ]
  },
  {
   "cell_type": "code",
   "execution_count": 11,
   "id": "4797b385",
   "metadata": {
    "ExecuteTime": {
     "end_time": "2022-09-13T14:13:18.925401Z",
     "start_time": "2022-09-13T14:13:18.922595Z"
    }
   },
   "outputs": [
    {
     "name": "stdout",
     "output_type": "stream",
     "text": [
      "total number of cateogrical columns are  0\n",
      "there names are as follows:  []\n"
     ]
    }
   ],
   "source": [
    "print(\"total number of cateogrical columns are \", len(objects_lst))\n",
    "print(\"there names are as follows: \", objects_lst)\n"
   ]
  },
  {
   "cell_type": "code",
   "execution_count": 12,
   "id": "5faad8a0",
   "metadata": {
    "ExecuteTime": {
     "end_time": "2022-09-13T14:13:19.119001Z",
     "start_time": "2022-09-13T14:13:19.114545Z"
    }
   },
   "outputs": [],
   "source": [
    "int64_cols = ['int64']\n",
    "int64_lst = list(df.select_dtypes(include=int64_cols).columns)"
   ]
  },
  {
   "cell_type": "code",
   "execution_count": 13,
   "id": "e67aa386",
   "metadata": {
    "ExecuteTime": {
     "end_time": "2022-09-13T14:13:19.310090Z",
     "start_time": "2022-09-13T14:13:19.306905Z"
    }
   },
   "outputs": [
    {
     "name": "stdout",
     "output_type": "stream",
     "text": [
      "total number of numerical columns are  1\n",
      "there names are as follows:  ['diagnosis']\n"
     ]
    }
   ],
   "source": [
    "print(\"total number of numerical columns are \", len(int64_lst))\n",
    "print(\"there names are as follows: \", int64_lst)\n"
   ]
  },
  {
   "cell_type": "code",
   "execution_count": 14,
   "id": "aa50473f",
   "metadata": {
    "ExecuteTime": {
     "end_time": "2022-09-13T14:13:19.531267Z",
     "start_time": "2022-09-13T14:13:19.527573Z"
    }
   },
   "outputs": [],
   "source": [
    "float64_cols = ['float64']\n",
    "float64_lst = list(df.select_dtypes(include=float64_cols).columns)"
   ]
  },
  {
   "cell_type": "code",
   "execution_count": 16,
   "id": "4b849f2f",
   "metadata": {
    "ExecuteTime": {
     "end_time": "2022-09-13T14:13:19.730636Z",
     "start_time": "2022-09-13T14:13:19.727234Z"
    }
   },
   "outputs": [
    {
     "name": "stdout",
     "output_type": "stream",
     "text": [
      "total number of numerical columns are  5\n",
      "there names are as follows:  ['mean_radius', 'mean_texture', 'mean_perimeter', 'mean_area', 'mean_smoothness']\n"
     ]
    }
   ],
   "source": [
    "print(\"total number of numerical columns are \", len(float64_lst))\n",
    "print(\"there names are as follows: \", float64_lst)"
   ]
  },
  {
   "cell_type": "markdown",
   "id": "fbfb2d9f",
   "metadata": {},
   "source": [
    "as we have id column in our dataset if we count the unique values of id column which shown below and also len of dataset"
   ]
  },
  {
   "cell_type": "markdown",
   "id": "5188fb25",
   "metadata": {},
   "source": [
    "### Step 2 Insights:- "
   ]
  },
  {
   "cell_type": "markdown",
   "id": "5f63bb15",
   "metadata": {},
   "source": [
    "1. We have total 42 features where 32 of them are integer type while others are object type.\n",
    "2. Drop 'id', 'assembly_start_date','assembly_end_date','final_completion_date' columns.\n",
    "3. Create a new day column with the help of assembly_start_date and final_completion_date."
   ]
  },
  {
   "cell_type": "markdown",
   "id": "d2857d42",
   "metadata": {},
   "source": [
    "# Step 3: Descriptive Analysis"
   ]
  },
  {
   "cell_type": "markdown",
   "id": "f82f35a4",
   "metadata": {},
   "source": [
    "### Goal/Purpose:- "
   ]
  },
  {
   "cell_type": "markdown",
   "id": "a97475b5",
   "metadata": {
    "ExecuteTime": {
     "end_time": "2022-09-11T10:21:49.831474Z",
     "start_time": "2022-09-11T10:21:49.824453Z"
    }
   },
   "source": [
    "Things we are going to do in this step: \n",
    "\n",
    "1. Mean\n",
    "2. Median\n",
    "3. Mode\n",
    "4. Standard Deviation\n",
    "5. Variance\n",
    "6. Null Values\n",
    "7. NaN Values\n",
    "8. Min value\n",
    "9. Max value\n",
    "10. Count Value\n",
    "11. Quatilers \n",
    "12. Correlation \n",
    "13. Skewness"
   ]
  },
  {
   "cell_type": "code",
   "execution_count": 17,
   "id": "ebcc040b",
   "metadata": {
    "ExecuteTime": {
     "end_time": "2022-09-13T14:13:22.957075Z",
     "start_time": "2022-09-13T14:13:22.866773Z"
    }
   },
   "outputs": [
    {
     "data": {
      "text/html": [
       "<div>\n",
       "<style scoped>\n",
       "    .dataframe tbody tr th:only-of-type {\n",
       "        vertical-align: middle;\n",
       "    }\n",
       "\n",
       "    .dataframe tbody tr th {\n",
       "        vertical-align: top;\n",
       "    }\n",
       "\n",
       "    .dataframe thead th {\n",
       "        text-align: right;\n",
       "    }\n",
       "</style>\n",
       "<table border=\"1\" class=\"dataframe\">\n",
       "  <thead>\n",
       "    <tr style=\"text-align: right;\">\n",
       "      <th></th>\n",
       "      <th>mean_radius</th>\n",
       "      <th>mean_texture</th>\n",
       "      <th>mean_perimeter</th>\n",
       "      <th>mean_area</th>\n",
       "      <th>mean_smoothness</th>\n",
       "      <th>diagnosis</th>\n",
       "    </tr>\n",
       "  </thead>\n",
       "  <tbody>\n",
       "    <tr>\n",
       "      <th>count</th>\n",
       "      <td>569.000000</td>\n",
       "      <td>569.000000</td>\n",
       "      <td>569.000000</td>\n",
       "      <td>569.000000</td>\n",
       "      <td>569.000000</td>\n",
       "      <td>569.000000</td>\n",
       "    </tr>\n",
       "    <tr>\n",
       "      <th>mean</th>\n",
       "      <td>14.127292</td>\n",
       "      <td>19.289649</td>\n",
       "      <td>91.969033</td>\n",
       "      <td>654.889104</td>\n",
       "      <td>0.096360</td>\n",
       "      <td>0.627417</td>\n",
       "    </tr>\n",
       "    <tr>\n",
       "      <th>std</th>\n",
       "      <td>3.524049</td>\n",
       "      <td>4.301036</td>\n",
       "      <td>24.298981</td>\n",
       "      <td>351.914129</td>\n",
       "      <td>0.014064</td>\n",
       "      <td>0.483918</td>\n",
       "    </tr>\n",
       "    <tr>\n",
       "      <th>min</th>\n",
       "      <td>6.981000</td>\n",
       "      <td>9.710000</td>\n",
       "      <td>43.790000</td>\n",
       "      <td>143.500000</td>\n",
       "      <td>0.052630</td>\n",
       "      <td>0.000000</td>\n",
       "    </tr>\n",
       "    <tr>\n",
       "      <th>25%</th>\n",
       "      <td>11.700000</td>\n",
       "      <td>16.170000</td>\n",
       "      <td>75.170000</td>\n",
       "      <td>420.300000</td>\n",
       "      <td>0.086370</td>\n",
       "      <td>0.000000</td>\n",
       "    </tr>\n",
       "    <tr>\n",
       "      <th>50%</th>\n",
       "      <td>13.370000</td>\n",
       "      <td>18.840000</td>\n",
       "      <td>86.240000</td>\n",
       "      <td>551.100000</td>\n",
       "      <td>0.095870</td>\n",
       "      <td>1.000000</td>\n",
       "    </tr>\n",
       "    <tr>\n",
       "      <th>75%</th>\n",
       "      <td>15.780000</td>\n",
       "      <td>21.800000</td>\n",
       "      <td>104.100000</td>\n",
       "      <td>782.700000</td>\n",
       "      <td>0.105300</td>\n",
       "      <td>1.000000</td>\n",
       "    </tr>\n",
       "    <tr>\n",
       "      <th>max</th>\n",
       "      <td>28.110000</td>\n",
       "      <td>39.280000</td>\n",
       "      <td>188.500000</td>\n",
       "      <td>2501.000000</td>\n",
       "      <td>0.163400</td>\n",
       "      <td>1.000000</td>\n",
       "    </tr>\n",
       "  </tbody>\n",
       "</table>\n",
       "</div>"
      ],
      "text/plain": [
       "       mean_radius  mean_texture  mean_perimeter    mean_area  \\\n",
       "count   569.000000    569.000000      569.000000   569.000000   \n",
       "mean     14.127292     19.289649       91.969033   654.889104   \n",
       "std       3.524049      4.301036       24.298981   351.914129   \n",
       "min       6.981000      9.710000       43.790000   143.500000   \n",
       "25%      11.700000     16.170000       75.170000   420.300000   \n",
       "50%      13.370000     18.840000       86.240000   551.100000   \n",
       "75%      15.780000     21.800000      104.100000   782.700000   \n",
       "max      28.110000     39.280000      188.500000  2501.000000   \n",
       "\n",
       "       mean_smoothness   diagnosis  \n",
       "count       569.000000  569.000000  \n",
       "mean          0.096360    0.627417  \n",
       "std           0.014064    0.483918  \n",
       "min           0.052630    0.000000  \n",
       "25%           0.086370    0.000000  \n",
       "50%           0.095870    1.000000  \n",
       "75%           0.105300    1.000000  \n",
       "max           0.163400    1.000000  "
      ]
     },
     "execution_count": 17,
     "metadata": {},
     "output_type": "execute_result"
    }
   ],
   "source": [
    "df.describe(include='all')"
   ]
  },
  {
   "cell_type": "markdown",
   "id": "6ed0703b",
   "metadata": {},
   "source": [
    "## Measure the variability of data of the dataset\n",
    "\n",
    "Variability describes how far apart data points lie from each other and from the center of a distribution."
   ]
  },
  {
   "cell_type": "markdown",
   "id": "d235a209",
   "metadata": {},
   "source": [
    "### 1. Standard Deviation\n",
    "\n",
    "The standard deviation is the average amount of variability in your dataset.\n",
    "\n",
    "It tells you, on average, how far each data point lies from the mean. The larger the standard deviation, the more variable the data set is and if zero variance then there is no variability in the dataset that means there no use of that dataset."
   ]
  },
  {
   "cell_type": "code",
   "execution_count": 18,
   "id": "5e996ea1",
   "metadata": {
    "ExecuteTime": {
     "end_time": "2022-09-13T14:13:23.691077Z",
     "start_time": "2022-09-13T14:13:23.631548Z"
    }
   },
   "outputs": [
    {
     "data": {
      "text/plain": [
       "mean_radius          3.524049\n",
       "mean_texture         4.301036\n",
       "mean_perimeter      24.298981\n",
       "mean_area          351.914129\n",
       "mean_smoothness      0.014064\n",
       "diagnosis            0.483918\n",
       "dtype: float64"
      ]
     },
     "execution_count": 18,
     "metadata": {},
     "output_type": "execute_result"
    }
   ],
   "source": [
    "df.std()"
   ]
  },
  {
   "cell_type": "code",
   "execution_count": 19,
   "id": "158a26c2",
   "metadata": {
    "ExecuteTime": {
     "end_time": "2022-09-13T14:13:23.854173Z",
     "start_time": "2022-09-13T14:13:23.850488Z"
    }
   },
   "outputs": [
    {
     "data": {
      "text/plain": [
       "0.48391795640316865"
      ]
     },
     "execution_count": 19,
     "metadata": {},
     "output_type": "execute_result"
    }
   ],
   "source": [
    "df['diagnosis'].std()"
   ]
  },
  {
   "cell_type": "code",
   "execution_count": 20,
   "id": "7a174051",
   "metadata": {
    "ExecuteTime": {
     "end_time": "2022-09-13T14:13:24.236302Z",
     "start_time": "2022-09-13T14:13:24.230026Z"
    }
   },
   "outputs": [],
   "source": [
    "def std_cal(df,int64_lst):\n",
    "    \n",
    "    cols = ['normal_value', 'zero_value']\n",
    "    zero_value = 0\n",
    "    normal_value = 0\n",
    "    \n",
    "    for value in int64_lst:\n",
    "    \n",
    "        rs = round(df[value].std(),6)\n",
    "\n",
    "        if rs > 0:\n",
    "            normal_value = normal_value + 1\n",
    "\n",
    "        elif rs == 0:\n",
    "            zero_value = zero_value + 1\n",
    "    \n",
    "    std_total_df =  pd.DataFrame([[normal_value, zero_value]], columns=cols) \n",
    "    \n",
    "    return std_total_df\n"
   ]
  },
  {
   "cell_type": "code",
   "execution_count": 24,
   "id": "0a7fe656",
   "metadata": {
    "ExecuteTime": {
     "end_time": "2022-09-13T14:13:24.471696Z",
     "start_time": "2022-09-13T14:13:24.459996Z"
    }
   },
   "outputs": [
    {
     "data": {
      "text/html": [
       "<div>\n",
       "<style scoped>\n",
       "    .dataframe tbody tr th:only-of-type {\n",
       "        vertical-align: middle;\n",
       "    }\n",
       "\n",
       "    .dataframe tbody tr th {\n",
       "        vertical-align: top;\n",
       "    }\n",
       "\n",
       "    .dataframe thead th {\n",
       "        text-align: right;\n",
       "    }\n",
       "</style>\n",
       "<table border=\"1\" class=\"dataframe\">\n",
       "  <thead>\n",
       "    <tr style=\"text-align: right;\">\n",
       "      <th></th>\n",
       "      <th>normal_value</th>\n",
       "      <th>zero_value</th>\n",
       "    </tr>\n",
       "  </thead>\n",
       "  <tbody>\n",
       "    <tr>\n",
       "      <th>0</th>\n",
       "      <td>1</td>\n",
       "      <td>0</td>\n",
       "    </tr>\n",
       "  </tbody>\n",
       "</table>\n",
       "</div>"
      ],
      "text/plain": [
       "   normal_value  zero_value\n",
       "0             1           0"
      ]
     },
     "execution_count": 24,
     "metadata": {},
     "output_type": "execute_result"
    }
   ],
   "source": [
    "std_cal(df, int64_lst)"
   ]
  },
  {
   "cell_type": "code",
   "execution_count": 25,
   "id": "eff0a400",
   "metadata": {},
   "outputs": [
    {
     "data": {
      "text/html": [
       "<div>\n",
       "<style scoped>\n",
       "    .dataframe tbody tr th:only-of-type {\n",
       "        vertical-align: middle;\n",
       "    }\n",
       "\n",
       "    .dataframe tbody tr th {\n",
       "        vertical-align: top;\n",
       "    }\n",
       "\n",
       "    .dataframe thead th {\n",
       "        text-align: right;\n",
       "    }\n",
       "</style>\n",
       "<table border=\"1\" class=\"dataframe\">\n",
       "  <thead>\n",
       "    <tr style=\"text-align: right;\">\n",
       "      <th></th>\n",
       "      <th>normal_value</th>\n",
       "      <th>zero_value</th>\n",
       "    </tr>\n",
       "  </thead>\n",
       "  <tbody>\n",
       "    <tr>\n",
       "      <th>0</th>\n",
       "      <td>5</td>\n",
       "      <td>0</td>\n",
       "    </tr>\n",
       "  </tbody>\n",
       "</table>\n",
       "</div>"
      ],
      "text/plain": [
       "   normal_value  zero_value\n",
       "0             5           0"
      ]
     },
     "execution_count": 25,
     "metadata": {},
     "output_type": "execute_result"
    }
   ],
   "source": [
    "std_cal(df, float64_lst)"
   ]
  },
  {
   "cell_type": "markdown",
   "id": "42143940",
   "metadata": {},
   "source": [
    "with the above shown column values we noticed that 9 columns or features (<b>'feature_2601', 'feature_3301', 'feature_3401', 'feature_55802',\n",
    "       'feature_56802', 'feature_58602', 'feature_58802', 'feature_3501',\n",
    "       'feature_64960'</b>) have 0 standard deviation (std) value. That means this value doesn't change there value much in the whole dataset so we have to remove that columns in our <b>data preparation step</b>."
   ]
  },
  {
   "cell_type": "markdown",
   "id": "24973733",
   "metadata": {},
   "source": [
    "### 2. Variance\n",
    "\n",
    "The variance is the average of squared deviations from the mean. A deviation from the mean is how far a score lies from the mean.\n",
    "\n",
    "Variance is the square of the standard deviation. This means that the units of variance are much larger than those of a typical value of a data set."
   ]
  },
  {
   "cell_type": "code",
   "execution_count": 26,
   "id": "f45a31e4",
   "metadata": {
    "ExecuteTime": {
     "end_time": "2022-09-13T14:13:25.424851Z",
     "start_time": "2022-09-13T14:13:25.366770Z"
    }
   },
   "outputs": [
    {
     "data": {
      "text/plain": [
       "mean_radius            12.418920\n",
       "mean_texture           18.498909\n",
       "mean_perimeter        590.440480\n",
       "mean_area          123843.554318\n",
       "mean_smoothness         0.000198\n",
       "diagnosis               0.234177\n",
       "dtype: float64"
      ]
     },
     "execution_count": 26,
     "metadata": {},
     "output_type": "execute_result"
    }
   ],
   "source": [
    "df.var()"
   ]
  },
  {
   "cell_type": "code",
   "execution_count": 27,
   "id": "2539fab3",
   "metadata": {
    "ExecuteTime": {
     "end_time": "2022-09-13T14:13:31.587312Z",
     "start_time": "2022-09-13T14:13:31.583784Z"
    }
   },
   "outputs": [],
   "source": [
    "zero_cols = []\n",
    "\n",
    "def var_cal(df,int64_lst):\n",
    "    \n",
    "    cols = ['normal_value', 'zero_value']\n",
    "    zero_value = 0\n",
    "    normal_value = 0\n",
    "    \n",
    "    for value in int64_lst:\n",
    "    \n",
    "        rs = round(df[value].var(),6)\n",
    "\n",
    "        if rs > 0:\n",
    "            normal_value = normal_value + 1\n",
    "\n",
    "        elif rs == 0:\n",
    "            zero_value = zero_value + 1\n",
    "            zero_cols.append(value)\n",
    "    \n",
    "    var_total_df =  pd.DataFrame([[normal_value, zero_value]], columns=cols) \n",
    "    \n",
    "    return var_total_df\n"
   ]
  },
  {
   "cell_type": "code",
   "execution_count": 28,
   "id": "5aa8e54d",
   "metadata": {
    "ExecuteTime": {
     "end_time": "2022-09-13T14:13:31.819973Z",
     "start_time": "2022-09-13T14:13:31.810752Z"
    }
   },
   "outputs": [
    {
     "data": {
      "text/html": [
       "<div>\n",
       "<style scoped>\n",
       "    .dataframe tbody tr th:only-of-type {\n",
       "        vertical-align: middle;\n",
       "    }\n",
       "\n",
       "    .dataframe tbody tr th {\n",
       "        vertical-align: top;\n",
       "    }\n",
       "\n",
       "    .dataframe thead th {\n",
       "        text-align: right;\n",
       "    }\n",
       "</style>\n",
       "<table border=\"1\" class=\"dataframe\">\n",
       "  <thead>\n",
       "    <tr style=\"text-align: right;\">\n",
       "      <th></th>\n",
       "      <th>normal_value</th>\n",
       "      <th>zero_value</th>\n",
       "    </tr>\n",
       "  </thead>\n",
       "  <tbody>\n",
       "    <tr>\n",
       "      <th>0</th>\n",
       "      <td>1</td>\n",
       "      <td>0</td>\n",
       "    </tr>\n",
       "  </tbody>\n",
       "</table>\n",
       "</div>"
      ],
      "text/plain": [
       "   normal_value  zero_value\n",
       "0             1           0"
      ]
     },
     "execution_count": 28,
     "metadata": {},
     "output_type": "execute_result"
    }
   ],
   "source": [
    "var_cal(df, int64_lst)"
   ]
  },
  {
   "cell_type": "code",
   "execution_count": 29,
   "id": "1747ff34",
   "metadata": {},
   "outputs": [
    {
     "data": {
      "text/html": [
       "<div>\n",
       "<style scoped>\n",
       "    .dataframe tbody tr th:only-of-type {\n",
       "        vertical-align: middle;\n",
       "    }\n",
       "\n",
       "    .dataframe tbody tr th {\n",
       "        vertical-align: top;\n",
       "    }\n",
       "\n",
       "    .dataframe thead th {\n",
       "        text-align: right;\n",
       "    }\n",
       "</style>\n",
       "<table border=\"1\" class=\"dataframe\">\n",
       "  <thead>\n",
       "    <tr style=\"text-align: right;\">\n",
       "      <th></th>\n",
       "      <th>normal_value</th>\n",
       "      <th>zero_value</th>\n",
       "    </tr>\n",
       "  </thead>\n",
       "  <tbody>\n",
       "    <tr>\n",
       "      <th>0</th>\n",
       "      <td>5</td>\n",
       "      <td>0</td>\n",
       "    </tr>\n",
       "  </tbody>\n",
       "</table>\n",
       "</div>"
      ],
      "text/plain": [
       "   normal_value  zero_value\n",
       "0             5           0"
      ]
     },
     "execution_count": 29,
     "metadata": {},
     "output_type": "execute_result"
    }
   ],
   "source": [
    "var_cal(df, float64_lst)"
   ]
  },
  {
   "cell_type": "code",
   "execution_count": 30,
   "id": "6f7fc6d1",
   "metadata": {
    "ExecuteTime": {
     "end_time": "2022-09-13T14:13:32.224567Z",
     "start_time": "2022-09-13T14:13:32.216017Z"
    }
   },
   "outputs": [
    {
     "data": {
      "text/plain": [
       "[]"
      ]
     },
     "execution_count": 30,
     "metadata": {},
     "output_type": "execute_result"
    }
   ],
   "source": [
    "zero_cols"
   ]
  },
  {
   "cell_type": "markdown",
   "id": "beb4e9cb",
   "metadata": {},
   "source": [
    "with the above shown column values we noticed that 9 columns or features (<b>'feature_2601', 'feature_3301', 'feature_3401', 'feature_55802',\n",
    "       'feature_56802', 'feature_58602', 'feature_58802', 'feature_3501',\n",
    "       'feature_64960'</b>) have 0 variance value. That means this value doesn't change there value much in the whole dataset so we have to remove that columns in our <b>data preparation step</b>."
   ]
  },
  {
   "cell_type": "markdown",
   "id": "3118b31b",
   "metadata": {},
   "source": [
    "## Measure central tendency\n",
    "\n",
    "A measure of central tendency is a single value that attempts to describe a set of data by identifying the central position within that set of data. As such, measures of central tendency are sometimes called measures of central location. They are also classed as summary statistics."
   ]
  },
  {
   "cell_type": "markdown",
   "id": "e16042ac",
   "metadata": {},
   "source": [
    "### 1. Mean \n",
    "\n",
    "The mean is the arithmetic average, and it is probably the measure of central tendency that you are most familiar."
   ]
  },
  {
   "cell_type": "code",
   "execution_count": 31,
   "id": "a4dea939",
   "metadata": {
    "ExecuteTime": {
     "end_time": "2022-09-13T14:13:34.661462Z",
     "start_time": "2022-09-13T14:13:34.239297Z"
    }
   },
   "outputs": [
    {
     "data": {
      "text/plain": [
       "mean_radius         14.127292\n",
       "mean_texture        19.289649\n",
       "mean_perimeter      91.969033\n",
       "mean_area          654.889104\n",
       "mean_smoothness      0.096360\n",
       "diagnosis            0.627417\n",
       "dtype: float64"
      ]
     },
     "execution_count": 31,
     "metadata": {},
     "output_type": "execute_result"
    }
   ],
   "source": [
    "df.mean()"
   ]
  },
  {
   "cell_type": "code",
   "execution_count": 32,
   "id": "579fd93f",
   "metadata": {
    "ExecuteTime": {
     "end_time": "2022-09-13T14:13:34.799337Z",
     "start_time": "2022-09-13T14:13:34.795465Z"
    }
   },
   "outputs": [],
   "source": [
    "def mean_cal(df,int64_lst):\n",
    "    \n",
    "    cols = ['normal_value', 'zero_value']\n",
    "    zero_value = 0\n",
    "    normal_value = 0\n",
    "    \n",
    "    for value in int64_lst:\n",
    "    \n",
    "        rs = round(df[value].mean(),6)\n",
    "\n",
    "        if rs > 0:\n",
    "            normal_value = normal_value + 1\n",
    "\n",
    "        elif rs == 0:\n",
    "            zero_value = zero_value + 1\n",
    "    \n",
    "    mean_total_df =  pd.DataFrame([[normal_value, zero_value]], columns=cols) \n",
    "    \n",
    "    return mean_total_df\n"
   ]
  },
  {
   "cell_type": "code",
   "execution_count": 33,
   "id": "b75bd547",
   "metadata": {
    "ExecuteTime": {
     "end_time": "2022-09-13T14:13:34.939831Z",
     "start_time": "2022-09-13T14:13:34.933539Z"
    }
   },
   "outputs": [
    {
     "data": {
      "text/html": [
       "<div>\n",
       "<style scoped>\n",
       "    .dataframe tbody tr th:only-of-type {\n",
       "        vertical-align: middle;\n",
       "    }\n",
       "\n",
       "    .dataframe tbody tr th {\n",
       "        vertical-align: top;\n",
       "    }\n",
       "\n",
       "    .dataframe thead th {\n",
       "        text-align: right;\n",
       "    }\n",
       "</style>\n",
       "<table border=\"1\" class=\"dataframe\">\n",
       "  <thead>\n",
       "    <tr style=\"text-align: right;\">\n",
       "      <th></th>\n",
       "      <th>normal_value</th>\n",
       "      <th>zero_value</th>\n",
       "    </tr>\n",
       "  </thead>\n",
       "  <tbody>\n",
       "    <tr>\n",
       "      <th>0</th>\n",
       "      <td>1</td>\n",
       "      <td>0</td>\n",
       "    </tr>\n",
       "  </tbody>\n",
       "</table>\n",
       "</div>"
      ],
      "text/plain": [
       "   normal_value  zero_value\n",
       "0             1           0"
      ]
     },
     "execution_count": 33,
     "metadata": {},
     "output_type": "execute_result"
    }
   ],
   "source": [
    "mean_cal(df, int64_lst)"
   ]
  },
  {
   "cell_type": "code",
   "execution_count": 34,
   "id": "92db1e5c",
   "metadata": {},
   "outputs": [
    {
     "data": {
      "text/html": [
       "<div>\n",
       "<style scoped>\n",
       "    .dataframe tbody tr th:only-of-type {\n",
       "        vertical-align: middle;\n",
       "    }\n",
       "\n",
       "    .dataframe tbody tr th {\n",
       "        vertical-align: top;\n",
       "    }\n",
       "\n",
       "    .dataframe thead th {\n",
       "        text-align: right;\n",
       "    }\n",
       "</style>\n",
       "<table border=\"1\" class=\"dataframe\">\n",
       "  <thead>\n",
       "    <tr style=\"text-align: right;\">\n",
       "      <th></th>\n",
       "      <th>normal_value</th>\n",
       "      <th>zero_value</th>\n",
       "    </tr>\n",
       "  </thead>\n",
       "  <tbody>\n",
       "    <tr>\n",
       "      <th>0</th>\n",
       "      <td>5</td>\n",
       "      <td>0</td>\n",
       "    </tr>\n",
       "  </tbody>\n",
       "</table>\n",
       "</div>"
      ],
      "text/plain": [
       "   normal_value  zero_value\n",
       "0             5           0"
      ]
     },
     "execution_count": 34,
     "metadata": {},
     "output_type": "execute_result"
    }
   ],
   "source": [
    "mean_cal(df, float64_lst)"
   ]
  },
  {
   "cell_type": "markdown",
   "id": "f7c296fc",
   "metadata": {},
   "source": [
    "with the above shown column values we noticed that 9 columns or features (<b>'feature_2601', 'feature_3301', 'feature_3401', 'feature_55802',\n",
    "       'feature_56802', 'feature_58602', 'feature_58802', 'feature_3501',\n",
    "       'feature_64960'</b>) have 0 mean value. That means this value doesn't change there value much in the whole dataset so we have to remove that columns in our <b>data preparation step</b>."
   ]
  },
  {
   "cell_type": "markdown",
   "id": "63ceab30",
   "metadata": {},
   "source": [
    "### 2. Median\n",
    "\n",
    "The median is the middle value. It is the value that splits the dataset in half."
   ]
  },
  {
   "cell_type": "code",
   "execution_count": 35,
   "id": "1a423b4b",
   "metadata": {
    "ExecuteTime": {
     "end_time": "2022-09-13T14:13:35.544701Z",
     "start_time": "2022-09-13T14:13:35.486511Z"
    }
   },
   "outputs": [
    {
     "data": {
      "text/plain": [
       "mean_radius         13.37000\n",
       "mean_texture        18.84000\n",
       "mean_perimeter      86.24000\n",
       "mean_area          551.10000\n",
       "mean_smoothness      0.09587\n",
       "diagnosis            1.00000\n",
       "dtype: float64"
      ]
     },
     "execution_count": 35,
     "metadata": {},
     "output_type": "execute_result"
    }
   ],
   "source": [
    "df.median()"
   ]
  },
  {
   "cell_type": "code",
   "execution_count": 36,
   "id": "f1a6d1da",
   "metadata": {
    "ExecuteTime": {
     "end_time": "2022-09-13T14:13:35.700561Z",
     "start_time": "2022-09-13T14:13:35.697339Z"
    }
   },
   "outputs": [],
   "source": [
    "def median_cal(df,int64_lst):\n",
    "    \n",
    "    cols = ['normal_value', 'zero_value']\n",
    "    zero_value = 0\n",
    "    normal_value = 0\n",
    "    \n",
    "    for value in int64_lst:\n",
    "    \n",
    "        rs = round(df[value].mean(),6)\n",
    "\n",
    "        if rs > 0:\n",
    "            normal_value = normal_value + 1\n",
    "\n",
    "        elif rs == 0:\n",
    "            zero_value = zero_value + 1\n",
    "    \n",
    "    median_total_df =  pd.DataFrame([[normal_value, zero_value]], columns=cols) \n",
    "    \n",
    "    return median_total_df\n"
   ]
  },
  {
   "cell_type": "code",
   "execution_count": 37,
   "id": "602f761b",
   "metadata": {
    "ExecuteTime": {
     "end_time": "2022-09-13T14:13:35.863719Z",
     "start_time": "2022-09-13T14:13:35.854702Z"
    }
   },
   "outputs": [
    {
     "data": {
      "text/html": [
       "<div>\n",
       "<style scoped>\n",
       "    .dataframe tbody tr th:only-of-type {\n",
       "        vertical-align: middle;\n",
       "    }\n",
       "\n",
       "    .dataframe tbody tr th {\n",
       "        vertical-align: top;\n",
       "    }\n",
       "\n",
       "    .dataframe thead th {\n",
       "        text-align: right;\n",
       "    }\n",
       "</style>\n",
       "<table border=\"1\" class=\"dataframe\">\n",
       "  <thead>\n",
       "    <tr style=\"text-align: right;\">\n",
       "      <th></th>\n",
       "      <th>normal_value</th>\n",
       "      <th>zero_value</th>\n",
       "    </tr>\n",
       "  </thead>\n",
       "  <tbody>\n",
       "    <tr>\n",
       "      <th>0</th>\n",
       "      <td>1</td>\n",
       "      <td>0</td>\n",
       "    </tr>\n",
       "  </tbody>\n",
       "</table>\n",
       "</div>"
      ],
      "text/plain": [
       "   normal_value  zero_value\n",
       "0             1           0"
      ]
     },
     "execution_count": 37,
     "metadata": {},
     "output_type": "execute_result"
    }
   ],
   "source": [
    "median_cal(df, int64_lst)"
   ]
  },
  {
   "cell_type": "code",
   "execution_count": 38,
   "id": "e4f37dcf",
   "metadata": {},
   "outputs": [
    {
     "data": {
      "text/html": [
       "<div>\n",
       "<style scoped>\n",
       "    .dataframe tbody tr th:only-of-type {\n",
       "        vertical-align: middle;\n",
       "    }\n",
       "\n",
       "    .dataframe tbody tr th {\n",
       "        vertical-align: top;\n",
       "    }\n",
       "\n",
       "    .dataframe thead th {\n",
       "        text-align: right;\n",
       "    }\n",
       "</style>\n",
       "<table border=\"1\" class=\"dataframe\">\n",
       "  <thead>\n",
       "    <tr style=\"text-align: right;\">\n",
       "      <th></th>\n",
       "      <th>normal_value</th>\n",
       "      <th>zero_value</th>\n",
       "    </tr>\n",
       "  </thead>\n",
       "  <tbody>\n",
       "    <tr>\n",
       "      <th>0</th>\n",
       "      <td>5</td>\n",
       "      <td>0</td>\n",
       "    </tr>\n",
       "  </tbody>\n",
       "</table>\n",
       "</div>"
      ],
      "text/plain": [
       "   normal_value  zero_value\n",
       "0             5           0"
      ]
     },
     "execution_count": 38,
     "metadata": {},
     "output_type": "execute_result"
    }
   ],
   "source": [
    "median_cal(df, float64_lst)"
   ]
  },
  {
   "cell_type": "markdown",
   "id": "6fe33198",
   "metadata": {},
   "source": [
    "A variable that is always zero will necessarily have mean and median zero.\n",
    "\n",
    "A variable that can in principle be only zero or positive can only have mean zero if all values in practice are zero. On the other hand, such a variable can and will have median zero if more than half of the values are zero. Such variables are very common and include counts and indicators (commonly, variables that are 1 or 0)."
   ]
  },
  {
   "cell_type": "markdown",
   "id": "d1eb4d04",
   "metadata": {},
   "source": [
    "### 3. Mode\n",
    "\n",
    "The mode is the value that occurs the most frequently in your data set. On a bar chart, the mode is the highest bar. If the data have multiple values that are tied for occurring the most frequently, you have a multimodal distribution. If no value repeats, the data do not have a mode."
   ]
  },
  {
   "cell_type": "code",
   "execution_count": 39,
   "id": "8a6cf743",
   "metadata": {
    "ExecuteTime": {
     "end_time": "2022-09-13T14:13:36.713380Z",
     "start_time": "2022-09-13T14:13:36.695889Z"
    }
   },
   "outputs": [],
   "source": [
    "def mode_cal(df,int64_lst):\n",
    "    \n",
    "    cols = ['normal_value', 'zero_value', 'string_value']\n",
    "    zero_value = 0\n",
    "    normal_value = 0\n",
    "    string_value = 0\n",
    "    \n",
    "    for value in int64_lst:\n",
    "                \n",
    "        rs = df[value].mode()[0]\n",
    "        \n",
    "        if isinstance(rs, str):\n",
    "            string_value = string_value + 1\n",
    "        else:\n",
    "\n",
    "            if rs > 0:\n",
    "                normal_value = normal_value + 1\n",
    "\n",
    "            elif rs == 0:\n",
    "                zero_value = zero_value + 1\n",
    "    \n",
    "    mode_total_df =  pd.DataFrame([[normal_value, zero_value, string_value]], columns=cols) \n",
    "    \n",
    "    return mode_total_df\n"
   ]
  },
  {
   "cell_type": "code",
   "execution_count": 40,
   "id": "9e18fc4c",
   "metadata": {
    "ExecuteTime": {
     "end_time": "2022-09-13T14:13:36.908581Z",
     "start_time": "2022-09-13T14:13:36.883824Z"
    }
   },
   "outputs": [
    {
     "data": {
      "text/html": [
       "<div>\n",
       "<style scoped>\n",
       "    .dataframe tbody tr th:only-of-type {\n",
       "        vertical-align: middle;\n",
       "    }\n",
       "\n",
       "    .dataframe tbody tr th {\n",
       "        vertical-align: top;\n",
       "    }\n",
       "\n",
       "    .dataframe thead th {\n",
       "        text-align: right;\n",
       "    }\n",
       "</style>\n",
       "<table border=\"1\" class=\"dataframe\">\n",
       "  <thead>\n",
       "    <tr style=\"text-align: right;\">\n",
       "      <th></th>\n",
       "      <th>normal_value</th>\n",
       "      <th>zero_value</th>\n",
       "      <th>string_value</th>\n",
       "    </tr>\n",
       "  </thead>\n",
       "  <tbody>\n",
       "    <tr>\n",
       "      <th>0</th>\n",
       "      <td>6</td>\n",
       "      <td>0</td>\n",
       "      <td>0</td>\n",
       "    </tr>\n",
       "  </tbody>\n",
       "</table>\n",
       "</div>"
      ],
      "text/plain": [
       "   normal_value  zero_value  string_value\n",
       "0             6           0             0"
      ]
     },
     "execution_count": 40,
     "metadata": {},
     "output_type": "execute_result"
    }
   ],
   "source": [
    "mode_cal(df, list(df.columns))"
   ]
  },
  {
   "cell_type": "markdown",
   "id": "e03eb8df",
   "metadata": {},
   "source": [
    "## Null and Nan values\n"
   ]
  },
  {
   "cell_type": "markdown",
   "id": "c27cfe3e",
   "metadata": {},
   "source": [
    "#### 1. Null Values"
   ]
  },
  {
   "cell_type": "code",
   "execution_count": 41,
   "id": "4c7344ed",
   "metadata": {
    "ExecuteTime": {
     "end_time": "2022-09-13T14:13:37.420607Z",
     "start_time": "2022-09-13T14:13:37.367187Z"
    }
   },
   "outputs": [
    {
     "data": {
      "text/plain": [
       "mean_radius        0\n",
       "mean_texture       0\n",
       "mean_perimeter     0\n",
       "mean_area          0\n",
       "mean_smoothness    0\n",
       "diagnosis          0\n",
       "dtype: int64"
      ]
     },
     "execution_count": 41,
     "metadata": {},
     "output_type": "execute_result"
    }
   ],
   "source": [
    "df.isnull().sum()"
   ]
  },
  {
   "cell_type": "markdown",
   "id": "0734dccd",
   "metadata": {},
   "source": [
    "as we notice that there are <b>no null values</b> in our dataset."
   ]
  },
  {
   "cell_type": "markdown",
   "id": "c4ec2dd8",
   "metadata": {},
   "source": [
    "### 2. Nan values"
   ]
  },
  {
   "cell_type": "code",
   "execution_count": 42,
   "id": "ea86bb96",
   "metadata": {
    "ExecuteTime": {
     "end_time": "2022-09-13T14:13:38.120149Z",
     "start_time": "2022-09-13T14:13:38.059361Z"
    }
   },
   "outputs": [
    {
     "data": {
      "text/plain": [
       "mean_radius        0\n",
       "mean_texture       0\n",
       "mean_perimeter     0\n",
       "mean_area          0\n",
       "mean_smoothness    0\n",
       "diagnosis          0\n",
       "dtype: int64"
      ]
     },
     "execution_count": 42,
     "metadata": {},
     "output_type": "execute_result"
    }
   ],
   "source": [
    "df.isna().sum()"
   ]
  },
  {
   "cell_type": "markdown",
   "id": "61a31276",
   "metadata": {},
   "source": [
    "as we notice that there are <b>no nan (Not a number) values</b> in our dataset."
   ]
  },
  {
   "cell_type": "markdown",
   "id": "d34fd07e",
   "metadata": {
    "ExecuteTime": {
     "end_time": "2022-09-11T18:31:24.805978Z",
     "start_time": "2022-09-11T18:31:24.799370Z"
    }
   },
   "source": [
    "### Count of unique occurences of every value in all categorical value \n"
   ]
  },
  {
   "cell_type": "code",
   "execution_count": 43,
   "id": "d7134f80",
   "metadata": {
    "ExecuteTime": {
     "end_time": "2022-09-13T14:13:38.979656Z",
     "start_time": "2022-09-13T14:13:38.958539Z"
    }
   },
   "outputs": [],
   "source": [
    "for value in objects_lst:\n",
    "    \n",
    "    print(value,df[value].value_counts())\n"
   ]
  },
  {
   "cell_type": "markdown",
   "id": "9f38eb73",
   "metadata": {
    "ExecuteTime": {
     "end_time": "2022-09-12T15:44:50.797056Z",
     "start_time": "2022-09-12T15:44:50.790861Z"
    }
   },
   "source": [
    "### Skewness of the columns"
   ]
  },
  {
   "cell_type": "code",
   "execution_count": 44,
   "id": "b206c4b7",
   "metadata": {
    "ExecuteTime": {
     "end_time": "2022-09-13T14:13:39.811711Z",
     "start_time": "2022-09-13T14:13:39.807939Z"
    }
   },
   "outputs": [],
   "source": [
    "def right_nor_left(df, int64_lst):\n",
    "    \n",
    "    temp_skewness = ['column', 'skewness_value', 'skewness (+ve or -ve)']\n",
    "    temp_skewness_values  = []\n",
    "    \n",
    "    temp_total = [\"positive (+ve) skewed\", \"normal distrbution\" , \"negative (-ve) skewed\"]\n",
    "    positive = 0\n",
    "    negative = 0\n",
    "    normal = 0\n",
    "    \n",
    "    for value in int64_lst:\n",
    "    \n",
    "        rs = round(df[value].skew(),4)\n",
    "\n",
    "        if rs > 0:\n",
    "            temp_skewness_values.append([value,rs , \"positive (+ve) skewed\"])   \n",
    "            positive = positive + 1\n",
    "\n",
    "        elif rs == 0:\n",
    "            temp_skewness_values.append([value,rs,\"normal distrbution\"])\n",
    "            normal = normal + 1\n",
    "\n",
    "        elif rs < 0:\n",
    "            temp_skewness_values.append([value,rs, \"negative (-ve) skewed\"])\n",
    "            negative = negative + 1\n",
    "    \n",
    "    skewness_df =  pd.DataFrame(temp_skewness_values, columns=temp_skewness) \n",
    "    skewness_total_df =  pd.DataFrame([[positive, normal, negative]], columns=temp_total) \n",
    "    \n",
    "    return skewness_df, skewness_total_df\n"
   ]
  },
  {
   "cell_type": "code",
   "execution_count": 50,
   "id": "d115e194",
   "metadata": {
    "ExecuteTime": {
     "end_time": "2022-09-13T14:13:40.147924Z",
     "start_time": "2022-09-13T14:13:40.128429Z"
    }
   },
   "outputs": [],
   "source": [
    "skew_df_i,skew_total_df_i = right_nor_left(df, int64_lst)"
   ]
  },
  {
   "cell_type": "code",
   "execution_count": 51,
   "id": "0eb67d9f",
   "metadata": {},
   "outputs": [],
   "source": [
    "skew_df_f,skew_total_df_f = right_nor_left(df, float64_lst)"
   ]
  },
  {
   "cell_type": "code",
   "execution_count": 52,
   "id": "850a3ac6",
   "metadata": {},
   "outputs": [],
   "source": [
    "skew_df=skew_df_i+skew_df_f"
   ]
  },
  {
   "cell_type": "code",
   "execution_count": 53,
   "id": "2c323958",
   "metadata": {
    "ExecuteTime": {
     "end_time": "2022-09-13T14:13:40.852490Z",
     "start_time": "2022-09-13T14:13:40.842627Z"
    }
   },
   "outputs": [
    {
     "data": {
      "text/html": [
       "<div>\n",
       "<style scoped>\n",
       "    .dataframe tbody tr th:only-of-type {\n",
       "        vertical-align: middle;\n",
       "    }\n",
       "\n",
       "    .dataframe tbody tr th {\n",
       "        vertical-align: top;\n",
       "    }\n",
       "\n",
       "    .dataframe thead th {\n",
       "        text-align: right;\n",
       "    }\n",
       "</style>\n",
       "<table border=\"1\" class=\"dataframe\">\n",
       "  <thead>\n",
       "    <tr style=\"text-align: right;\">\n",
       "      <th></th>\n",
       "      <th>column</th>\n",
       "      <th>skewness_value</th>\n",
       "      <th>skewness (+ve or -ve)</th>\n",
       "    </tr>\n",
       "  </thead>\n",
       "  <tbody>\n",
       "    <tr>\n",
       "      <th>0</th>\n",
       "      <td>diagnosismean_radius</td>\n",
       "      <td>0.4139</td>\n",
       "      <td>negative (-ve) skewedpositive (+ve) skewed</td>\n",
       "    </tr>\n",
       "    <tr>\n",
       "      <th>1</th>\n",
       "      <td>NaN</td>\n",
       "      <td>NaN</td>\n",
       "      <td>NaN</td>\n",
       "    </tr>\n",
       "    <tr>\n",
       "      <th>2</th>\n",
       "      <td>NaN</td>\n",
       "      <td>NaN</td>\n",
       "      <td>NaN</td>\n",
       "    </tr>\n",
       "    <tr>\n",
       "      <th>3</th>\n",
       "      <td>NaN</td>\n",
       "      <td>NaN</td>\n",
       "      <td>NaN</td>\n",
       "    </tr>\n",
       "    <tr>\n",
       "      <th>4</th>\n",
       "      <td>NaN</td>\n",
       "      <td>NaN</td>\n",
       "      <td>NaN</td>\n",
       "    </tr>\n",
       "  </tbody>\n",
       "</table>\n",
       "</div>"
      ],
      "text/plain": [
       "                 column  skewness_value  \\\n",
       "0  diagnosismean_radius          0.4139   \n",
       "1                   NaN             NaN   \n",
       "2                   NaN             NaN   \n",
       "3                   NaN             NaN   \n",
       "4                   NaN             NaN   \n",
       "\n",
       "                        skewness (+ve or -ve)  \n",
       "0  negative (-ve) skewedpositive (+ve) skewed  \n",
       "1                                         NaN  \n",
       "2                                         NaN  \n",
       "3                                         NaN  \n",
       "4                                         NaN  "
      ]
     },
     "execution_count": 53,
     "metadata": {},
     "output_type": "execute_result"
    }
   ],
   "source": [
    "skew_df"
   ]
  },
  {
   "cell_type": "code",
   "execution_count": 54,
   "id": "8af43c24",
   "metadata": {
    "ExecuteTime": {
     "end_time": "2022-09-13T14:13:41.290384Z",
     "start_time": "2022-09-13T14:13:41.281674Z"
    }
   },
   "outputs": [],
   "source": [
    "skew_total_df=skew_total_df_i+skew_total_df_f"
   ]
  },
  {
   "cell_type": "code",
   "execution_count": 55,
   "id": "4977e245",
   "metadata": {},
   "outputs": [
    {
     "data": {
      "text/html": [
       "<div>\n",
       "<style scoped>\n",
       "    .dataframe tbody tr th:only-of-type {\n",
       "        vertical-align: middle;\n",
       "    }\n",
       "\n",
       "    .dataframe tbody tr th {\n",
       "        vertical-align: top;\n",
       "    }\n",
       "\n",
       "    .dataframe thead th {\n",
       "        text-align: right;\n",
       "    }\n",
       "</style>\n",
       "<table border=\"1\" class=\"dataframe\">\n",
       "  <thead>\n",
       "    <tr style=\"text-align: right;\">\n",
       "      <th></th>\n",
       "      <th>positive (+ve) skewed</th>\n",
       "      <th>normal distrbution</th>\n",
       "      <th>negative (-ve) skewed</th>\n",
       "    </tr>\n",
       "  </thead>\n",
       "  <tbody>\n",
       "    <tr>\n",
       "      <th>0</th>\n",
       "      <td>5</td>\n",
       "      <td>0</td>\n",
       "      <td>1</td>\n",
       "    </tr>\n",
       "  </tbody>\n",
       "</table>\n",
       "</div>"
      ],
      "text/plain": [
       "   positive (+ve) skewed  normal distrbution  negative (-ve) skewed\n",
       "0                      5                   0                      1"
      ]
     },
     "execution_count": 55,
     "metadata": {},
     "output_type": "execute_result"
    }
   ],
   "source": [
    "skew_total_df"
   ]
  },
  {
   "cell_type": "markdown",
   "id": "3b34ed20",
   "metadata": {},
   "source": [
    "we notice with the above  results that we have following details:<br>\n",
    "<b>1. 20 columns are positive skewed<br>\n",
    "2. 9 are normal distrbution <br>\n",
    "3. 2 are negative skewed<br></b>"
   ]
  },
  {
   "cell_type": "markdown",
   "id": "a4e248be",
   "metadata": {},
   "source": [
    "### Step 3 Insights:- "
   ]
  },
  {
   "cell_type": "markdown",
   "id": "3007ea28",
   "metadata": {},
   "source": [
    "With the statistical analysis we have found that the data have a lot of skewness in them mostly are +vely skewed while most of the columns have zero varience "
   ]
  },
  {
   "cell_type": "markdown",
   "id": "8f42f258",
   "metadata": {},
   "source": [
    "# Step 4: Data Exploration\n"
   ]
  },
  {
   "cell_type": "markdown",
   "id": "0afae91c",
   "metadata": {},
   "source": [
    "### Goal/Purpose:- "
   ]
  },
  {
   "cell_type": "markdown",
   "id": "5c86b88f",
   "metadata": {},
   "source": [
    "Graphs we are going to develop in this step\n",
    "\n",
    "1. Histogram of all columns to check the distrubution of the columns\n",
    "2. Distplot or distribution plot of all columns to check the variation in the data distribution\n",
    "3. Heatmap to calculate correlation within feature variables\n",
    "4. Boxplot to find out outlier in the feature columns"
   ]
  },
  {
   "cell_type": "markdown",
   "id": "afeeb0e7",
   "metadata": {},
   "source": [
    "### 1. Histogram"
   ]
  },
  {
   "cell_type": "code",
   "execution_count": 56,
   "id": "cb226b47",
   "metadata": {
    "ExecuteTime": {
     "end_time": "2022-09-13T14:13:48.257942Z",
     "start_time": "2022-09-13T14:13:44.663263Z"
    }
   },
   "outputs": [
    {
     "data": {
      "image/png": "[encoded data removed]",
      "text/plain": [
       "<Figure size 3000x2000 with 6 Axes>"
      ]
     },
     "metadata": {},
     "output_type": "display_data"
    }
   ],
   "source": [
    "# Distribution in attributes\n",
    "%matplotlib inline\n",
    "import matplotlib.pyplot as plt\n",
    "df.hist(bins=50, figsize=(30,20))\n",
    "plt.show()"
   ]
  },
  {
   "cell_type": "markdown",
   "id": "be161636",
   "metadata": {},
   "source": [
    "### 2. Distplot"
   ]
  },
  {
   "cell_type": "code",
   "execution_count": 57,
   "id": "3d6ec7cf",
   "metadata": {
    "ExecuteTime": {
     "end_time": "2022-09-13T14:13:57.510057Z",
     "start_time": "2022-09-13T14:13:48.415983Z"
    }
   },
   "outputs": [
    {
     "data": {
      "text/plain": [
       "<seaborn.axisgrid.FacetGrid at 0x1b663fca080>"
      ]
     },
     "execution_count": 57,
     "metadata": {},
     "output_type": "execute_result"
    },
    {
     "data": {
      "image/png": "[encoded data removed]",
      "text/plain": [
       "<Figure size 1200x600 with 6 Axes>"
      ]
     },
     "metadata": {},
     "output_type": "display_data"
    }
   ],
   "source": [
    "num = [f for f in df.columns if df.dtypes[f] != 'object']\n",
    "nd = pd.melt(df, value_vars = num)\n",
    "n1 = sns.FacetGrid (nd, col='variable', col_wrap=4, sharex=False, sharey = False)\n",
    "n1 = n1.map(sns.distplot, 'value')\n",
    "n1"
   ]
  },
  {
   "cell_type": "markdown",
   "id": "13326e04",
   "metadata": {},
   "source": [
    "above we draw distrution bar graphs to confirm about statiscts of the data that we got our data have skewness so here also we notice with the above  results that we have following details:<br>\n",
    "<b>1. 20 columns are positive skewed<br>\n",
    "2. 9 are normal distrbution <br>\n",
    "3. 2 are negative skewed<br></b>"
   ]
  },
  {
   "cell_type": "markdown",
   "id": "00598579",
   "metadata": {},
   "source": [
    "#### Let's proceed and check the distribution of the target variable."
   ]
  },
  {
   "cell_type": "code",
   "execution_count": 58,
   "id": "186db2f0",
   "metadata": {
    "ExecuteTime": {
     "end_time": "2022-09-13T14:13:57.926220Z",
     "start_time": "2022-09-13T14:13:57.650557Z"
    }
   },
   "outputs": [
    {
     "data": {
      "image/png": "[encoded data removed]",
      "text/plain": [
       "<Figure size 640x480 with 1 Axes>"
      ]
     },
     "metadata": {},
     "output_type": "display_data"
    }
   ],
   "source": [
    "sns.distplot(df['diagnosis'])\n",
    "plt.show()"
   ]
  },
  {
   "cell_type": "markdown",
   "id": "ffd99cf6",
   "metadata": {},
   "source": [
    "We see that the target variable days has a positive skewed distribution. In that case we'll need to log transform this variable so that it becomes normally distributed. A normally distributed (or close to normal) target variable helps in better modeling the relationship between target and independent variables. In addition, linear algorithms assume constant variance in the error term. Alternatively, we can also confirm this skewed behavior using the skewness metric."
   ]
  },
  {
   "cell_type": "markdown",
   "id": "45aaf31c",
   "metadata": {},
   "source": [
    "\n",
    "\n",
    "## 3. Heatmap"
   ]
  },
  {
   "cell_type": "markdown",
   "id": "87ec5dc6",
   "metadata": {},
   "source": [
    "<b> Correlation within feature variables </b>\n",
    "\n",
    "Correlation - A positive correlation is a relationship between two variables in which both variables move in the same direction. Therefore, when one variable increases as the other variable increases, or one variable decreases while the other decreases."
   ]
  },
  {
   "cell_type": "markdown",
   "id": "9bdecb67",
   "metadata": {},
   "source": [
    "#### Correlation can have a value:\n",
    "\n",
    "1. 1 is a perfect positive correlation\n",
    "2. 0 is no correlation (the values don't seem linked at all)\n",
    "3. -1 is a perfect negative correlation"
   ]
  },
  {
   "cell_type": "code",
   "execution_count": 59,
   "id": "aad11bd0",
   "metadata": {
    "ExecuteTime": {
     "end_time": "2022-09-13T14:13:58.318861Z",
     "start_time": "2022-09-13T14:13:58.062122Z"
    },
    "code_folding": []
   },
   "outputs": [
    {
     "data": {
      "image/png": "[encoded data removed]",
      "text/plain": [
       "<Figure size 640x480 with 2 Axes>"
      ]
     },
     "metadata": {},
     "output_type": "display_data"
    }
   ],
   "source": [
    "#correlation plot\n",
    "corr = df.corr().abs()\n",
    "sns.heatmap(corr)\n",
    "plt.show()"
   ]
  },
  {
   "cell_type": "code",
   "execution_count": 60,
   "id": "ceb1a174",
   "metadata": {
    "ExecuteTime": {
     "end_time": "2022-09-13T14:13:58.467123Z",
     "start_time": "2022-09-13T14:13:58.446576Z"
    }
   },
   "outputs": [
    {
     "data": {
      "text/html": [
       "<div>\n",
       "<style scoped>\n",
       "    .dataframe tbody tr th:only-of-type {\n",
       "        vertical-align: middle;\n",
       "    }\n",
       "\n",
       "    .dataframe tbody tr th {\n",
       "        vertical-align: top;\n",
       "    }\n",
       "\n",
       "    .dataframe thead th {\n",
       "        text-align: right;\n",
       "    }\n",
       "</style>\n",
       "<table border=\"1\" class=\"dataframe\">\n",
       "  <thead>\n",
       "    <tr style=\"text-align: right;\">\n",
       "      <th></th>\n",
       "      <th>mean_radius</th>\n",
       "      <th>mean_texture</th>\n",
       "      <th>mean_perimeter</th>\n",
       "      <th>mean_area</th>\n",
       "      <th>mean_smoothness</th>\n",
       "      <th>diagnosis</th>\n",
       "    </tr>\n",
       "  </thead>\n",
       "  <tbody>\n",
       "    <tr>\n",
       "      <th>mean_radius</th>\n",
       "      <td>1.000000</td>\n",
       "      <td>0.323782</td>\n",
       "      <td>0.997855</td>\n",
       "      <td>0.987357</td>\n",
       "      <td>0.170581</td>\n",
       "      <td>0.730029</td>\n",
       "    </tr>\n",
       "    <tr>\n",
       "      <th>mean_texture</th>\n",
       "      <td>0.323782</td>\n",
       "      <td>1.000000</td>\n",
       "      <td>0.329533</td>\n",
       "      <td>0.321086</td>\n",
       "      <td>0.023389</td>\n",
       "      <td>0.415185</td>\n",
       "    </tr>\n",
       "    <tr>\n",
       "      <th>mean_perimeter</th>\n",
       "      <td>0.997855</td>\n",
       "      <td>0.329533</td>\n",
       "      <td>1.000000</td>\n",
       "      <td>0.986507</td>\n",
       "      <td>0.207278</td>\n",
       "      <td>0.742636</td>\n",
       "    </tr>\n",
       "    <tr>\n",
       "      <th>mean_area</th>\n",
       "      <td>0.987357</td>\n",
       "      <td>0.321086</td>\n",
       "      <td>0.986507</td>\n",
       "      <td>1.000000</td>\n",
       "      <td>0.177028</td>\n",
       "      <td>0.708984</td>\n",
       "    </tr>\n",
       "    <tr>\n",
       "      <th>mean_smoothness</th>\n",
       "      <td>0.170581</td>\n",
       "      <td>0.023389</td>\n",
       "      <td>0.207278</td>\n",
       "      <td>0.177028</td>\n",
       "      <td>1.000000</td>\n",
       "      <td>0.358560</td>\n",
       "    </tr>\n",
       "    <tr>\n",
       "      <th>diagnosis</th>\n",
       "      <td>0.730029</td>\n",
       "      <td>0.415185</td>\n",
       "      <td>0.742636</td>\n",
       "      <td>0.708984</td>\n",
       "      <td>0.358560</td>\n",
       "      <td>1.000000</td>\n",
       "    </tr>\n",
       "  </tbody>\n",
       "</table>\n",
       "</div>"
      ],
      "text/plain": [
       "                 mean_radius  mean_texture  mean_perimeter  mean_area  \\\n",
       "mean_radius         1.000000      0.323782        0.997855   0.987357   \n",
       "mean_texture        0.323782      1.000000        0.329533   0.321086   \n",
       "mean_perimeter      0.997855      0.329533        1.000000   0.986507   \n",
       "mean_area           0.987357      0.321086        0.986507   1.000000   \n",
       "mean_smoothness     0.170581      0.023389        0.207278   0.177028   \n",
       "diagnosis           0.730029      0.415185        0.742636   0.708984   \n",
       "\n",
       "                 mean_smoothness  diagnosis  \n",
       "mean_radius             0.170581   0.730029  \n",
       "mean_texture            0.023389   0.415185  \n",
       "mean_perimeter          0.207278   0.742636  \n",
       "mean_area               0.177028   0.708984  \n",
       "mean_smoothness         1.000000   0.358560  \n",
       "diagnosis               0.358560   1.000000  "
      ]
     },
     "execution_count": 60,
     "metadata": {},
     "output_type": "execute_result"
    }
   ],
   "source": [
    "corr"
   ]
  },
  {
   "cell_type": "markdown",
   "id": "7bac4c5c",
   "metadata": {},
   "source": [
    "as we know, it is recommended to avoid having correlated features in your dataset. Indeed, a group of highly correlated features will not bring additional information (or just very few), but will increase the complexity of the algorithm, thus increasing the risk of errors."
   ]
  },
  {
   "cell_type": "code",
   "execution_count": 61,
   "id": "e57c1e30",
   "metadata": {
    "ExecuteTime": {
     "end_time": "2022-09-13T14:13:58.661628Z",
     "start_time": "2022-09-13T14:13:58.600244Z"
    }
   },
   "outputs": [],
   "source": [
    "# Create correlation matrix\n",
    "corr_matrix = df.corr().abs()\n",
    "\n",
    "# Select upper triangle of correlation matrix\n",
    "upper = corr_matrix.where(np.triu(np.ones(corr_matrix.shape), k=1).astype(np.bool))\n",
    "\n",
    "# Find index of feature columns with correlation greater than 0.8\n",
    "to_drop = [column for column in upper.columns if any(upper[column] > 0.8)]"
   ]
  },
  {
   "cell_type": "code",
   "execution_count": 62,
   "id": "fdb3a2f6",
   "metadata": {
    "ExecuteTime": {
     "end_time": "2022-09-13T14:13:58.796552Z",
     "start_time": "2022-09-13T14:13:58.793443Z"
    }
   },
   "outputs": [
    {
     "data": {
      "text/plain": [
       "['mean_perimeter', 'mean_area']"
      ]
     },
     "execution_count": 62,
     "metadata": {},
     "output_type": "execute_result"
    }
   ],
   "source": [
    "to_drop"
   ]
  },
  {
   "cell_type": "markdown",
   "id": "71ed7a8a",
   "metadata": {},
   "source": [
    "as we see there is no feature columns with correlation greater than 0.8, so we don't need to remove any feature columns from our dataset"
   ]
  },
  {
   "cell_type": "code",
   "execution_count": 65,
   "id": "e69f07f3",
   "metadata": {
    "ExecuteTime": {
     "end_time": "2022-09-13T14:14:33.469854Z",
     "start_time": "2022-09-13T14:13:58.930942Z"
    }
   },
   "outputs": [
    {
     "data": {
      "image/png": "[encoded data removed]",
      "text/plain": [
       "<Figure size 500x500 with 1 Axes>"
      ]
     },
     "metadata": {},
     "output_type": "display_data"
    },
    {
     "data": {
      "image/png": "[encoded data removed]",
      "text/plain": [
       "<Figure size 500x500 with 1 Axes>"
      ]
     },
     "metadata": {},
     "output_type": "display_data"
    },
    {
     "data": {
      "image/png": "[encoded data removed]",
      "text/plain": [
       "<Figure size 500x500 with 1 Axes>"
      ]
     },
     "metadata": {},
     "output_type": "display_data"
    },
    {
     "data": {
      "image/png": "[encoded data removed]",
      "text/plain": [
       "<Figure size 500x500 with 1 Axes>"
      ]
     },
     "metadata": {},
     "output_type": "display_data"
    },
    {
     "data": {
      "image/png": "[encoded data removed]",
      "text/plain": [
       "<Figure size 500x500 with 1 Axes>"
      ]
     },
     "metadata": {},
     "output_type": "display_data"
    }
   ],
   "source": [
    "for value in float64_lst:\n",
    "    sns.lmplot(x=value, y=\"diagnosis\", data=df);\n",
    "\n",
    "plt.show()"
   ]
  },
  {
   "cell_type": "markdown",
   "id": "6bf52492",
   "metadata": {},
   "source": [
    "## 4.Boxplot"
   ]
  },
  {
   "cell_type": "markdown",
   "id": "7e1dec2e",
   "metadata": {},
   "source": [
    "<b>Outliers</b>\n",
    "\n",
    "In statistics, an outlier is a data point that differs significantly from other observations. An outlier may be due to variability in the measurement or it may indicate experimental error; the latter are sometimes excluded from the data set."
   ]
  },
  {
   "cell_type": "code",
   "execution_count": 68,
   "id": "a0459afd",
   "metadata": {
    "ExecuteTime": {
     "end_time": "2022-09-13T14:14:37.038216Z",
     "start_time": "2022-09-13T14:14:33.604884Z"
    }
   },
   "outputs": [
    {
     "data": {
      "image/png": "[encoded data removed]",
      "text/plain": [
       "<Figure size 500x500 with 1 Axes>"
      ]
     },
     "metadata": {},
     "output_type": "display_data"
    },
    {
     "data": {
      "image/png": "[encoded data removed]",
      "text/plain": [
       "<Figure size 500x500 with 1 Axes>"
      ]
     },
     "metadata": {},
     "output_type": "display_data"
    },
    {
     "data": {
      "image/png": "[encoded data removed]",
      "text/plain": [
       "<Figure size 500x500 with 1 Axes>"
      ]
     },
     "metadata": {},
     "output_type": "display_data"
    },
    {
     "data": {
      "image/png": "[encoded data removed]",
      "text/plain": [
       "<Figure size 500x500 with 1 Axes>"
      ]
     },
     "metadata": {},
     "output_type": "display_data"
    },
    {
     "data": {
      "image/png": "[encoded data removed]",
      "text/plain": [
       "<Figure size 500x500 with 1 Axes>"
      ]
     },
     "metadata": {},
     "output_type": "display_data"
    }
   ],
   "source": [
    "for value in float64_lst:\n",
    "    sns.catplot(data=df, x=value, kind=\"box\")\n",
    "    \n",
    "plt.show()"
   ]
  },
  {
   "cell_type": "markdown",
   "id": "f246c43f",
   "metadata": {},
   "source": [
    "### Step 4 Insights:"
   ]
  },
  {
   "cell_type": "markdown",
   "id": "fb1943b5",
   "metadata": {},
   "source": [
    "In this we confirmed that about skewness of the columns, there are no columns which have more than 0.8 correlation value between them and also found the some columns have outliers."
   ]
  },
  {
   "cell_type": "markdown",
   "id": "49b00e7e",
   "metadata": {},
   "source": [
    "# Step 5: Data pre-processing\n"
   ]
  },
  {
   "cell_type": "markdown",
   "id": "e7618b79",
   "metadata": {},
   "source": [
    "In this stage, we'll deal, encode variables from the dataset."
   ]
  },
  {
   "cell_type": "code",
   "execution_count": 69,
   "id": "f54cc8a3",
   "metadata": {
    "ExecuteTime": {
     "end_time": "2022-09-13T14:16:30.978124Z",
     "start_time": "2022-09-13T14:16:30.970673Z"
    }
   },
   "outputs": [],
   "source": [
    "df = df.drop(list(zero_cols), axis=1)\n"
   ]
  },
  {
   "cell_type": "code",
   "execution_count": 70,
   "id": "3ba7b45c",
   "metadata": {
    "ExecuteTime": {
     "end_time": "2022-09-13T14:17:36.680301Z",
     "start_time": "2022-09-13T14:17:36.581234Z"
    }
   },
   "outputs": [],
   "source": [
    "encoder = OneHotEncoder()\n",
    "for value in objects_lst:\n",
    "\n",
    "    transformed = encoder.fit_transform(df[[value]])\n",
    "    df[encoder.categories_[0]] = transformed.toarray()\n"
   ]
  },
  {
   "cell_type": "code",
   "execution_count": 71,
   "id": "da1915c5",
   "metadata": {
    "ExecuteTime": {
     "end_time": "2022-09-13T14:17:37.150153Z",
     "start_time": "2022-09-13T14:17:37.140468Z"
    }
   },
   "outputs": [
    {
     "data": {
      "text/plain": [
       "[]"
      ]
     },
     "execution_count": 71,
     "metadata": {},
     "output_type": "execute_result"
    }
   ],
   "source": [
    "objects_lst"
   ]
  },
  {
   "cell_type": "code",
   "execution_count": 72,
   "id": "79444a7d",
   "metadata": {
    "ExecuteTime": {
     "end_time": "2022-09-13T14:17:39.622982Z",
     "start_time": "2022-09-13T14:17:39.617867Z"
    }
   },
   "outputs": [],
   "source": [
    "df = df.drop(objects_lst, axis=1)"
   ]
  },
  {
   "cell_type": "code",
   "execution_count": 73,
   "id": "b2af04e7",
   "metadata": {
    "ExecuteTime": {
     "end_time": "2022-09-13T14:17:40.162794Z",
     "start_time": "2022-09-13T14:17:40.145388Z"
    }
   },
   "outputs": [
    {
     "data": {
      "text/html": [
       "<div>\n",
       "<style scoped>\n",
       "    .dataframe tbody tr th:only-of-type {\n",
       "        vertical-align: middle;\n",
       "    }\n",
       "\n",
       "    .dataframe tbody tr th {\n",
       "        vertical-align: top;\n",
       "    }\n",
       "\n",
       "    .dataframe thead th {\n",
       "        text-align: right;\n",
       "    }\n",
       "</style>\n",
       "<table border=\"1\" class=\"dataframe\">\n",
       "  <thead>\n",
       "    <tr style=\"text-align: right;\">\n",
       "      <th></th>\n",
       "      <th>mean_radius</th>\n",
       "      <th>mean_texture</th>\n",
       "      <th>mean_perimeter</th>\n",
       "      <th>mean_area</th>\n",
       "      <th>mean_smoothness</th>\n",
       "      <th>diagnosis</th>\n",
       "    </tr>\n",
       "  </thead>\n",
       "  <tbody>\n",
       "    <tr>\n",
       "      <th>0</th>\n",
       "      <td>17.99</td>\n",
       "      <td>10.38</td>\n",
       "      <td>122.80</td>\n",
       "      <td>1001.0</td>\n",
       "      <td>0.11840</td>\n",
       "      <td>0</td>\n",
       "    </tr>\n",
       "    <tr>\n",
       "      <th>1</th>\n",
       "      <td>20.57</td>\n",
       "      <td>17.77</td>\n",
       "      <td>132.90</td>\n",
       "      <td>1326.0</td>\n",
       "      <td>0.08474</td>\n",
       "      <td>0</td>\n",
       "    </tr>\n",
       "    <tr>\n",
       "      <th>2</th>\n",
       "      <td>19.69</td>\n",
       "      <td>21.25</td>\n",
       "      <td>130.00</td>\n",
       "      <td>1203.0</td>\n",
       "      <td>0.10960</td>\n",
       "      <td>0</td>\n",
       "    </tr>\n",
       "    <tr>\n",
       "      <th>3</th>\n",
       "      <td>11.42</td>\n",
       "      <td>20.38</td>\n",
       "      <td>77.58</td>\n",
       "      <td>386.1</td>\n",
       "      <td>0.14250</td>\n",
       "      <td>0</td>\n",
       "    </tr>\n",
       "    <tr>\n",
       "      <th>4</th>\n",
       "      <td>20.29</td>\n",
       "      <td>14.34</td>\n",
       "      <td>135.10</td>\n",
       "      <td>1297.0</td>\n",
       "      <td>0.10030</td>\n",
       "      <td>0</td>\n",
       "    </tr>\n",
       "  </tbody>\n",
       "</table>\n",
       "</div>"
      ],
      "text/plain": [
       "   mean_radius  mean_texture  mean_perimeter  mean_area  mean_smoothness  \\\n",
       "0        17.99         10.38          122.80     1001.0          0.11840   \n",
       "1        20.57         17.77          132.90     1326.0          0.08474   \n",
       "2        19.69         21.25          130.00     1203.0          0.10960   \n",
       "3        11.42         20.38           77.58      386.1          0.14250   \n",
       "4        20.29         14.34          135.10     1297.0          0.10030   \n",
       "\n",
       "   diagnosis  \n",
       "0          0  \n",
       "1          0  \n",
       "2          0  \n",
       "3          0  \n",
       "4          0  "
      ]
     },
     "execution_count": 73,
     "metadata": {},
     "output_type": "execute_result"
    }
   ],
   "source": [
    "# check the encoding categorical Data\n",
    "df.head()"
   ]
  },
  {
   "cell_type": "code",
   "execution_count": 74,
   "id": "8149d42c",
   "metadata": {
    "ExecuteTime": {
     "end_time": "2022-09-13T14:17:59.226287Z",
     "start_time": "2022-09-13T14:17:58.907118Z"
    }
   },
   "outputs": [],
   "source": [
    "# save preprocess dataframe to csv for model training purpose\n",
    "df.to_csv('data2.csv')"
   ]
  },
  {
   "cell_type": "code",
   "execution_count": null,
   "id": "1b6f5807",
   "metadata": {},
   "outputs": [],
   "source": []
  }
 ],
 "metadata": {
  "kernelspec": {
   "display_name": "Python 3 (ipykernel)",
   "language": "python",
   "name": "python3"
  },
  "language_info": {
   "codemirror_mode": {
    "name": "ipython",
    "version": 3
   },
   "file_extension": ".py",
   "mimetype": "text/x-python",
   "name": "python",
   "nbconvert_exporter": "python",
   "pygments_lexer": "ipython3",
   "version": "3.10.1"
  },
  "varInspector": {
   "cols": {
    "lenName": 16,
    "lenType": 16,
    "lenVar": 40
   },
   "kernels_config": {
    "python": {
     "delete_cmd_postfix": "",
     "delete_cmd_prefix": "del ",
     "library": "var_list.py",
     "varRefreshCmd": "print(var_dic_list())"
    },
    "r": {
     "delete_cmd_postfix": ") ",
     "delete_cmd_prefix": "rm(",
     "library": "var_list.r",
     "varRefreshCmd": "cat(var_dic_list()) "
    }
   },
   "types_to_exclude": [
    "module",
    "function",
    "builtin_function_or_method",
    "instance",
    "_Feature"
   ],
   "window_display": false
  }
 },
 "nbformat": 4,
 "nbformat_minor": 5
}
